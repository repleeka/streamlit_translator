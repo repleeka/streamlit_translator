{
 "cells": [
  {
   "cell_type": "code",
   "execution_count": 1,
   "metadata": {},
   "outputs": [],
   "source": [
    "import torch"
   ]
  },
  {
   "cell_type": "code",
   "execution_count": 4,
   "metadata": {},
   "outputs": [
    {
     "name": "stderr",
     "output_type": "stream",
     "text": [
      "d:\\miniconda\\envs\\nmt\\Lib\\site-packages\\tqdm\\auto.py:21: TqdmWarning: IProgress not found. Please update jupyter and ipywidgets. See https://ipywidgets.readthedocs.io/en/stable/user_install.html\n",
      "  from .autonotebook import tqdm as notebook_tqdm\n"
     ]
    }
   ],
   "source": [
    "import streamlit as st\n",
    "import ctranslate2\n",
    "import sentencepiece as spm"
   ]
  },
  {
   "cell_type": "code",
   "execution_count": 5,
   "metadata": {},
   "outputs": [
    {
     "data": {
      "text/plain": [
       "'D:/tungon/streamlit_translator/demo/eng_taw_200k'"
      ]
     },
     "execution_count": 5,
     "metadata": {},
     "output_type": "execute_result"
    }
   ],
   "source": [
    "# Path to your PyTorch model (.pt file)\n",
    "model_path = \"eng_taw_200k.pt\"\n",
    "\n",
    "# Output directory where the converted model will be saved\n",
    "output_dir = \"D:/tungon/streamlit_translator/demo/eng_taw_200k\"\n",
    "\n",
    "# Use the converter to convert the model\n",
    "converter = ctranslate2.converters.OpenNMTPyConverter(model_path)\n",
    "converter.convert(output_dir)"
   ]
  },
  {
   "cell_type": "code",
   "execution_count": null,
   "metadata": {},
   "outputs": [],
   "source": [
    "# Load the model and tokenizer (assuming SentencePiece tokenizer is used)\n",
    "@st.cache(allow_output_mutation=True)\n",
    "def load_model():\n",
    "    translator = ctranslate2.Translator(\"/path/to/ctranslate2_model\")\n",
    "    tokenizer = spm.SentencePieceProcessor(model_file='/path/to/spm.model')  # Adjust this to your tokenizer\n",
    "    return translator, tokenizer\n",
    "\n",
    "translator, tokenizer = load_model()"
   ]
  }
 ],
 "metadata": {
  "kernelspec": {
   "display_name": "ml",
   "language": "python",
   "name": "python3"
  },
  "language_info": {
   "codemirror_mode": {
    "name": "ipython",
    "version": 3
   },
   "file_extension": ".py",
   "mimetype": "text/x-python",
   "name": "python",
   "nbconvert_exporter": "python",
   "pygments_lexer": "ipython3",
   "version": "3.12.3"
  }
 },
 "nbformat": 4,
 "nbformat_minor": 2
}
